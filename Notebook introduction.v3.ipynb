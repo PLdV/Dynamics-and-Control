{
 "metadata": {
  "kernelspec": {
   "display_name": "Python 3",
   "language": "python",
   "name": "python3"
  },
  "language_info": {
   "codemirror_mode": {
    "name": "ipython",
    "version": 3
   },
   "file_extension": ".py",
   "mimetype": "text/x-python",
   "name": "python",
   "nbconvert_exporter": "python",
   "pygments_lexer": "ipython3",
   "version": "3.5.1"
  },
  "name": ""
 },
 "nbformat": 3,
 "nbformat_minor": 0,
 "worksheets": [
  {
   "cells": [
    {
     "cell_type": "markdown",
     "metadata": {},
     "source": [
      "Introduction to Sympy and the Jupyter Notebook for engineering calculations\n",
      "===========================================================================\n",
      "\n",
      "Sympy is a computer algebra module for Python. You are looking at the convenient [Jupyter Notebook](http://jupyter.org/) interface. This notebook aims to show some of the useful features of the Sympy system as well as the notebook interface.\n",
      "\n",
      "This notebook will use Python as the programming language. This means that most of what you learned in MPR can be applied in the notebook. The notebook interface provides \"cells\" where one can input code. To run the code, click on a cell and press Shift+Enter."
     ]
    },
    {
     "cell_type": "markdown",
     "metadata": {},
     "source": [
      "**Note:** This notebook is developed assuming Python 3. The next cell changes the behaviour of Python 2 to match Python 3."
     ]
    },
    {
     "cell_type": "code",
     "collapsed": true,
     "input": [
      "from __future__ import division\n",
      "from __future__ import print_function"
     ],
     "language": "python",
     "metadata": {},
     "outputs": [],
     "prompt_number": 1
    },
    {
     "cell_type": "markdown",
     "metadata": {},
     "source": [
      "A quick tour\n",
      "------------\n",
      "\n",
      "Take a second to go through the tour of the notebook interface by clicking on \"Help, User Interface Tour\". Also note that there is help available for a number of other things under that menu.\n",
      "\n",
      "Now that you are familiar with the nomenclature, let's run some code!\n",
      "\n",
      "*Evaluate the cell below to print out a message by clicking inside the cell and then pressing Shift + Enter*"
     ]
    },
    {
     "cell_type": "code",
     "collapsed": false,
     "input": [
      "for word in ['Hello', 'World']:\n",
      "    print(word)"
     ],
     "language": "python",
     "metadata": {
      "scrolled": true
     },
     "outputs": [],
     "prompt_number": null
    },
    {
     "cell_type": "markdown",
     "metadata": {},
     "source": [
      "Math in text boxes\n",
      "------------------\n",
      "\n",
      "The text editor supports math in [$\\LaTeX$]() notation. You can double-click on a text box to see the codes used to enter it:\n",
      "\n",
      "$$f(a)=\\int_\\infty^0 \\frac{1}{a+2} \\mathrm{d}a$$\n",
      "\n",
      "Double-click on the formula above to see the code that produced it."
     ]
    },
    {
     "cell_type": "markdown",
     "metadata": {},
     "source": [
      "SymPy\n",
      "-----\n",
      "\n",
      "We need to import [the SymPy module](http://docs.sympy.org/latest/index.html) to get symbolic math capabilities."
     ]
    },
    {
     "cell_type": "code",
     "collapsed": false,
     "input": [
      "import sympy"
     ],
     "language": "python",
     "metadata": {
      "scrolled": true
     },
     "outputs": [],
     "prompt_number": null
    },
    {
     "cell_type": "markdown",
     "metadata": {},
     "source": [
      "We need to start the pretty-printer to get nicely typeset math\n",
      "\n",
      "_Note that this changes somewhat based on the version of sympy_"
     ]
    },
    {
     "cell_type": "code",
     "collapsed": false,
     "input": [
      "sympy.init_printing()"
     ],
     "language": "python",
     "metadata": {
      "scrolled": true
     },
     "outputs": [],
     "prompt_number": null
    },
    {
     "cell_type": "markdown",
     "metadata": {},
     "source": [
      "In order to do symbolic calculations, we need to create a symbol"
     ]
    },
    {
     "cell_type": "code",
     "collapsed": false,
     "input": [
      "x = sympy.Symbol('x')"
     ],
     "language": "python",
     "metadata": {
      "scrolled": true
     },
     "outputs": [],
     "prompt_number": null
    },
    {
     "cell_type": "code",
     "collapsed": false,
     "input": [
      "x"
     ],
     "language": "python",
     "metadata": {
      "scrolled": true
     },
     "outputs": [],
     "prompt_number": null
    },
    {
     "cell_type": "markdown",
     "metadata": {},
     "source": [
      "Sympy allows us to do many mathematical operations that would be tedious by hand. For instance, we can expand a polynomial:"
     ]
    },
    {
     "cell_type": "code",
     "collapsed": false,
     "input": [
      "polynomial = (2*x + 3)**4\n",
      "polynomial.expand()"
     ],
     "language": "python",
     "metadata": {
      "scrolled": true
     },
     "outputs": [],
     "prompt_number": null
    },
    {
     "cell_type": "markdown",
     "metadata": {},
     "source": [
      "Notice what happened - we defined a new name called \"polynomial\" and then used the .expand() method to expand the polynomial. We can see all the methods associated with an object by typing its name and a dot then pressing \"tab\".\n",
      "\n",
      "Call up the list of methods for the polynomial variable by pressing tab at the end of the line in the cell below:"
     ]
    },
    {
     "cell_type": "code",
     "collapsed": false,
     "input": [
      "polynomial."
     ],
     "language": "python",
     "metadata": {
      "scrolled": true
     },
     "outputs": [],
     "prompt_number": null
    },
    {
     "cell_type": "markdown",
     "metadata": {},
     "source": [
      "To get help about any method, we can type its name and append a ? at the end, then evaluate the cell\n",
      "\n",
      "Obtain help about the .expand() method by evaluating the cell below:"
     ]
    },
    {
     "cell_type": "code",
     "collapsed": false,
     "input": [
      "polynomial.expand?"
     ],
     "language": "python",
     "metadata": {
      "scrolled": true
     },
     "outputs": [],
     "prompt_number": null
    },
    {
     "cell_type": "markdown",
     "metadata": {},
     "source": [
      "Of course, we can also factor polynomials:"
     ]
    },
    {
     "cell_type": "code",
     "collapsed": false,
     "input": [
      "(x**2 + 2*x + 1).factor()"
     ],
     "language": "python",
     "metadata": {
      "scrolled": true
     },
     "outputs": [],
     "prompt_number": null
    },
    {
     "cell_type": "markdown",
     "metadata": {},
     "source": [
      "Calculus\n",
      "--------\n",
      "\n",
      "Sympy knows how to integrate and differentiate"
     ]
    },
    {
     "cell_type": "code",
     "collapsed": false,
     "input": [
      "polynomial.diff(x) # First derivative"
     ],
     "language": "python",
     "metadata": {
      "scrolled": true
     },
     "outputs": [],
     "prompt_number": null
    },
    {
     "cell_type": "code",
     "collapsed": false,
     "input": [
      "polynomial.diff(x, 2) # Second derivative"
     ],
     "language": "python",
     "metadata": {
      "scrolled": true
     },
     "outputs": [],
     "prompt_number": null
    },
    {
     "cell_type": "code",
     "collapsed": false,
     "input": [
      "polynomial.integrate(x) # indefinite integral - note no constant of integration is added"
     ],
     "language": "python",
     "metadata": {
      "scrolled": true
     },
     "outputs": [],
     "prompt_number": null
    },
    {
     "cell_type": "code",
     "collapsed": false,
     "input": [
      "polynomial.integrate((x, 1, 2)) # Note that integrate takes one argument which is a tuple for the definite integral"
     ],
     "language": "python",
     "metadata": {
      "scrolled": true
     },
     "outputs": [],
     "prompt_number": null
    },
    {
     "cell_type": "markdown",
     "metadata": {},
     "source": [
      "Limits\n",
      "------\n",
      "\n",
      "We can evaluate limits using Sage, even for \"interesting\" limits where we would need L'Hopital's rule"
     ]
    },
    {
     "cell_type": "code",
     "collapsed": false,
     "input": [
      "sympy.limit((2*sympy.sin(x) - sympy.sin(2*x))/(x - sympy.sin(x)), x, 0)"
     ],
     "language": "python",
     "metadata": {
      "scrolled": true
     },
     "outputs": [],
     "prompt_number": null
    },
    {
     "cell_type": "markdown",
     "metadata": {},
     "source": [
      "Approximation\n",
      "-------------\n",
      "\n",
      "SymPy has built-in support for taylor series expansion"
     ]
    },
    {
     "cell_type": "code",
     "collapsed": false,
     "input": [
      "nonlinear_expression = sympy.sin(x)\n",
      "sympy.series(nonlinear_expression, x, 2, 2) # taylor expansion in terms of the x variable, around x=2, first order."
     ],
     "language": "python",
     "metadata": {
      "scrolled": true
     },
     "outputs": [],
     "prompt_number": null
    },
    {
     "cell_type": "markdown",
     "metadata": {},
     "source": [
      "Solving equations\n",
      "-----------------\n",
      "\n",
      "Sympy can help us solve manipulate equations using the `solve` function. Like many solving functions, it finds zeros of a function, so we have to rewrite equalities to be equal to zero, \n",
      "\n",
      "$$ \\begin{align}\n",
      " 2x^2 + 2 &= 4 \\\\\n",
      " 2x^2 + 2 - 4 &= 0\\end{align}$$"
     ]
    },
    {
     "cell_type": "code",
     "collapsed": false,
     "input": [
      "solutions = sympy.solve(2*x**2 + 2 - 4)\n",
      "solutions"
     ],
     "language": "python",
     "metadata": {
      "scrolled": true
     },
     "outputs": [],
     "prompt_number": null
    },
    {
     "cell_type": "code",
     "collapsed": false,
     "input": [
      "solutions[0]"
     ],
     "language": "python",
     "metadata": {
      "scrolled": true
     },
     "outputs": [],
     "prompt_number": null
    },
    {
     "cell_type": "markdown",
     "metadata": {},
     "source": [
      "We can also use `sympy.Eq` to construct equations"
     ]
    },
    {
     "cell_type": "code",
     "collapsed": false,
     "input": [
      "equation = sympy.Eq(2*x**2 + 2, 4)\n",
      "equation"
     ],
     "language": "python",
     "metadata": {},
     "outputs": [],
     "prompt_number": null
    },
    {
     "cell_type": "markdown",
     "metadata": {},
     "source": [
      "The roots function will give us the multiplicity of the roots as well."
     ]
    },
    {
     "cell_type": "code",
     "collapsed": false,
     "input": [
      "sympy.roots(equation)"
     ],
     "language": "python",
     "metadata": {
      "scrolled": true
     },
     "outputs": [],
     "prompt_number": null
    },
    {
     "cell_type": "markdown",
     "metadata": {},
     "source": [
      "We can also solve systems of equations by passing a list of equations to solve and asking for a list of variables to solve for"
     ]
    },
    {
     "cell_type": "code",
     "collapsed": false,
     "input": [
      "x, y = sympy.symbols('x y')\n",
      "sympy.solve([x + y - 2, \n",
      "             x - y - 0], [x, y])"
     ],
     "language": "python",
     "metadata": {
      "scrolled": true
     },
     "outputs": [],
     "prompt_number": null
    },
    {
     "cell_type": "markdown",
     "metadata": {},
     "source": [
      "This even works with symbolic variables in the equations"
     ]
    },
    {
     "cell_type": "code",
     "collapsed": false,
     "input": [
      "a, b, c = sympy.var('a, b, c')\n",
      "sympy.solve([a*x + b*y - 2,\n",
      "       a*x - b*y - c], [x, y])"
     ],
     "language": "python",
     "metadata": {
      "scrolled": true
     },
     "outputs": [],
     "prompt_number": null
    },
    {
     "cell_type": "code",
     "collapsed": true,
     "input": [],
     "language": "python",
     "metadata": {},
     "outputs": [],
     "prompt_number": null
    }
   ],
   "metadata": {}
  }
 ]
}
